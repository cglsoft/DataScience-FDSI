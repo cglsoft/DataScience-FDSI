{
 "cells": [
  {
   "cell_type": "markdown",
   "metadata": {},
   "source": [
    "# Anexando dados\n",
    "Primeiro, importe os pacotes necessários e carregue os arquivos `winequality-red.csv` e `winequality-white.csv`."
   ]
  },
  {
   "cell_type": "code",
   "execution_count": 6,
   "metadata": {},
   "outputs": [],
   "source": [
    "# importe o numpy e o pandas\n",
    "import pandas as pd\n",
    "import numpy as np\n",
    "\n",
    "# carregue os conjuntos de dados de vinhos tintos e brancos\n",
    "red_df = pd.read_csv('winequality-red.csv',';')\n",
    "white_df = pd.read_csv('winequality-white.csv',';')"
   ]
  },
  {
   "cell_type": "markdown",
   "metadata": {},
   "source": [
    "## Crie colunas de cor\n",
    "Crie dois vetores de tamanho igual ao número de linhas nos dataframes tinto e branco que repetem o valor “red” or “white”. O NumPy oferece uma forma bem fácil de fazer isso. Aqui está a documentação para a função [repeat do NumPy](https://docs.scipy.org/doc/numpy/reference/generated/numpy.repeat.html). Dê uma olhada e tente você mesmo."
   ]
  },
  {
   "cell_type": "code",
   "execution_count": 7,
   "metadata": {},
   "outputs": [],
   "source": [
    "# crie vetor de cor para o dataframe tinto\n",
    "color_red = np.repeat('red', 1599)\n",
    "\n",
    "# crie vetor de cor para o dataframe branco\n",
    "color_white = np.repeat('white',4898)\n"
   ]
  },
  {
   "cell_type": "markdown",
   "metadata": {},
   "source": [
    "Adicione os vetores de cor aos dataframes tinto e branco. Faça isso associando uma nova coluna chamada 'color' ao vetor apropriado. A célula abaixo faz isso para o dataframe tinto."
   ]
  },
  {
   "cell_type": "code",
   "execution_count": 8,
   "metadata": {},
   "outputs": [],
   "source": [
    "red_df['color'] = color_red\n"
   ]
  },
  {
   "cell_type": "markdown",
   "metadata": {},
   "source": [
    "Faça o mesmo para o dataframe branco e use `head()` para confirmar a mudança."
   ]
  },
  {
   "cell_type": "code",
   "execution_count": 9,
   "metadata": {},
   "outputs": [],
   "source": [
    "white_df['color'] = color_white\n"
   ]
  },
  {
   "cell_type": "markdown",
   "metadata": {},
   "source": [
    "## Combine dataframes com append\n",
    "Veja a documentação para a função [append do Pandas](https://pandas.pydata.org/pandas-docs/stable/generated/pandas.DataFrame.append.html) e veja se você pode usar isso para descobrir como combinar os dataframes. (Bonus: Por que não estamos usando o método [merge](https://pandas.pydata.org/pandas-docs/stable/generated/pandas.DataFrame.merge.html) para combinar dataframes?) Se você não entender, vou te mostrar como mais tarde. Certifique-se de salvar seu trabalho neste notebook! Você irá voltar para isso mais tarde."
   ]
  },
  {
   "cell_type": "code",
   "execution_count": 10,
   "metadata": {},
   "outputs": [
    {
     "name": "stdout",
     "output_type": "stream",
     "text": [
      "<class 'pandas.core.frame.DataFrame'>\n",
      "Int64Index: 6497 entries, 0 to 4897\n",
      "Data columns (total 13 columns):\n",
      "fixed_acidity           6497 non-null float64\n",
      "volatile_acidity        6497 non-null float64\n",
      "citric_acid             6497 non-null float64\n",
      "residual_sugar          6497 non-null float64\n",
      "chlorides               6497 non-null float64\n",
      "free_sulfur_dioxide     6497 non-null float64\n",
      "total_sulfur_dioxide    6497 non-null float64\n",
      "density                 6497 non-null float64\n",
      "pH                      6497 non-null float64\n",
      "sulphates               6497 non-null float64\n",
      "alcohol                 6497 non-null float64\n",
      "quality                 6497 non-null int64\n",
      "color                   6497 non-null object\n",
      "dtypes: float64(11), int64(1), object(1)\n",
      "memory usage: 710.6+ KB\n"
     ]
    }
   ],
   "source": [
    "#rename column name\n",
    "newLabels = list(red_df.columns)\n",
    "newLabels[6] = \"total_sulfur_dioxide\"\n",
    "red_df.columns = newLabels\n",
    "\n",
    "# anexe dataframes\n",
    "wine_df = red_df.append(white_df)\n",
    "wine_df.info()"
   ]
  },
  {
   "cell_type": "markdown",
   "metadata": {},
   "source": [
    "## Salve o dataset combinado\n",
    "Salve seu dataframe recém-combinado como `winequality_edited.csv`. Lembre-se de configurar `index=False` para evitar salvar com uma coluna não-nomeada!"
   ]
  },
  {
   "cell_type": "code",
   "execution_count": 11,
   "metadata": {},
   "outputs": [],
   "source": [
    "wine_df.to_csv('winequality_edited.csv')"
   ]
  },
  {
   "cell_type": "code",
   "execution_count": null,
   "metadata": {},
   "outputs": [],
   "source": []
  }
 ],
 "metadata": {
  "kernelspec": {
   "display_name": "Python 3",
   "language": "python",
   "name": "python3"
  },
  "language_info": {
   "codemirror_mode": {
    "name": "ipython",
    "version": 3
   },
   "file_extension": ".py",
   "mimetype": "text/x-python",
   "name": "python",
   "nbconvert_exporter": "python",
   "pygments_lexer": "ipython3",
   "version": "3.6.3"
  }
 },
 "nbformat": 4,
 "nbformat_minor": 2
}
