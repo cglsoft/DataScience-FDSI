{
 "cells": [
  {
   "cell_type": "markdown",
   "metadata": {},
   "source": [
    "# Tirando conclusões usando query"
   ]
  },
  {
   "cell_type": "code",
   "execution_count": 3,
   "metadata": {},
   "outputs": [],
   "source": [
    "# Carregue o arquivo `winequality_edited.csv`\n",
    "\n",
    "import pandas as pd\n",
    "\n",
    "df = pd.read_csv('winequality_edited.csv')"
   ]
  },
  {
   "cell_type": "markdown",
   "metadata": {
    "collapsed": true
   },
   "source": [
    "### Será que vinhos com maior teor alcóolico recebem avaliações melhores?"
   ]
  },
  {
   "cell_type": "code",
   "execution_count": 13,
   "metadata": {},
   "outputs": [
    {
     "name": "stdout",
     "output_type": "stream",
     "text": [
      "10.3\n"
     ]
    }
   ],
   "source": [
    "# obtenha o valor mediano do teor alcóolico\n",
    "m = df['alcohol'].median()\n",
    "print (m)\n"
   ]
  },
  {
   "cell_type": "code",
   "execution_count": 14,
   "metadata": {},
   "outputs": [
    {
     "data": {
      "text/plain": [
       "True"
      ]
     },
     "execution_count": 14,
     "metadata": {},
     "output_type": "execute_result"
    }
   ],
   "source": [
    "# selecione amostras com teor alcóolico abaixo da mediana\n",
    "low_alcohol = df.query('alcohol < @m')\n",
    "\n",
    "# selecione amostras com teor alcóolico maior ou igual à mediana\n",
    "high_alcohol = df.query('alcohol >= @m')\n",
    "\n",
    "# certifique-se que estas consultas incluíram cada amostra uma única vez\n",
    "num_samples = df.shape[0]\n",
    "num_samples == low_alcohol['quality'].count() + high_alcohol['quality'].count() # resultado deve ser True"
   ]
  },
  {
   "cell_type": "code",
   "execution_count": 20,
   "metadata": {},
   "outputs": [
    {
     "data": {
      "text/plain": [
       "Unnamed: 0              2042.535632\n",
       "fixed_acidity              7.215307\n",
       "volatile_acidity           0.339666\n",
       "citric_acid                0.318633\n",
       "residual_sugar             5.443235\n",
       "chlorides                  0.056034\n",
       "free_sulfur_dioxide       30.525319\n",
       "total_sulfur_dioxide     115.744574\n",
       "density                    0.994697\n",
       "pH                         3.218501\n",
       "sulphates                  0.531268\n",
       "alcohol                   10.491801\n",
       "quality                    5.818378\n",
       "dtype: float64"
      ]
     },
     "execution_count": 20,
     "metadata": {},
     "output_type": "execute_result"
    }
   ],
   "source": [
    "# obtenha a avaliação média de qualidade para grupos com alto e baixo teor alcóolico\n",
    "df.mean()"
   ]
  },
  {
   "cell_type": "markdown",
   "metadata": {},
   "source": [
    "### Vinhos mais suaves recebem avaliações melhores?"
   ]
  },
  {
   "cell_type": "code",
   "execution_count": 21,
   "metadata": {},
   "outputs": [
    {
     "name": "stdout",
     "output_type": "stream",
     "text": [
      "3.0\n"
     ]
    }
   ],
   "source": [
    "# obtenha o valor mediano do nível de açúcar residual\n",
    "m2 = df['residual_sugar'].median()\n",
    "print (m2)\n"
   ]
  },
  {
   "cell_type": "code",
   "execution_count": 22,
   "metadata": {},
   "outputs": [
    {
     "data": {
      "text/plain": [
       "True"
      ]
     },
     "execution_count": 22,
     "metadata": {},
     "output_type": "execute_result"
    }
   ],
   "source": [
    "# selecione amostras com nível de açúcar residual abaixo da mediana\n",
    "low_sugar = df.query('residual_sugar < @m2')\n",
    "\n",
    "# selecione amostras com nível de açúcar residual maior ou igual à mediana\n",
    "high_sugar = df.query('residual_sugar >= @m2')\n",
    "\n",
    "# certifique-se que estas consultas incluíram cada amostra uma única vez\n",
    "num_samples == low_sugar['quality'].count() + high_sugar['quality'].count() # resultado deve ser True"
   ]
  },
  {
   "cell_type": "code",
   "execution_count": null,
   "metadata": {
    "collapsed": true
   },
   "outputs": [],
   "source": [
    "# obtenha a avaliação média de qualidade para grupos com alto e baixo nível de açúcar residual\n"
   ]
  }
 ],
 "metadata": {
  "kernelspec": {
   "display_name": "Python 3",
   "language": "python",
   "name": "python3"
  },
  "language_info": {
   "codemirror_mode": {
    "name": "ipython",
    "version": 3
   },
   "file_extension": ".py",
   "mimetype": "text/x-python",
   "name": "python",
   "nbconvert_exporter": "python",
   "pygments_lexer": "ipython3",
   "version": "3.6.3"
  }
 },
 "nbformat": 4,
 "nbformat_minor": 2
}
